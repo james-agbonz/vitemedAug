{
 "cells": [
  {
   "cell_type": "code",
   "execution_count": 3,
   "metadata": {},
   "outputs": [],
   "source": [
    "import sys\n",
    "sys.path.append('../..')"
   ]
  },
  {
   "cell_type": "code",
   "execution_count": 4,
   "metadata": {},
   "outputs": [],
   "source": [
    "from model import ModelFx\n",
    "from dataset_service.isic_multimodal.dataset import ISIC_MultiModal_DataModule\n",
    "\n",
    "model = ModelFx(device='mps')"
   ]
  },
  {
   "cell_type": "code",
   "execution_count": 13,
   "metadata": {},
   "outputs": [
    {
     "name": "stdout",
     "output_type": "stream",
     "text": [
      "Applied transform for training: \n",
      "Compose(\n",
      "      Resize(size=(256, 256), interpolation=bilinear, max_size=None, antialias=True)\n",
      "      Lambda()\n",
      ")\n",
      "Applied transform for validating: \n",
      "Compose(\n",
      "      Resize(size=(256, 256), interpolation=bilinear, max_size=None, antialias=True)\n",
      "      Lambda()\n",
      ")\n",
      "[[0.00000041 0.00000679 0.00013169 0.00000077 0.00000015 0.00000126\n",
      "  0.00007593 0.01081933 0.9889637 ]\n",
      " [0.00000017 0.00000248 0.00006812 0.00000577 0.00000006 0.00000134\n",
      "  0.00006704 0.9997602  0.00009491]\n",
      " [0.00000022 0.00000771 0.00040609 0.00000683 0.00000027 0.00000118\n",
      "  0.00077321 0.878139   0.12066547]\n",
      " [0.00000137 0.00032941 0.00013308 0.00000118 0.00000024 0.00000075\n",
      "  0.00007185 0.9967895  0.00267251]\n",
      " [0.00000317 0.00004167 0.40693718 0.00001374 0.00000897 0.00000317\n",
      "  0.00542582 0.46665412 0.12091216]\n",
      " [0.00000068 0.00001953 0.0000055  0.00012451 0.00000208 0.00000534\n",
      "  0.00070077 0.02733948 0.97180206]\n",
      " [0.0000003  0.00000899 0.00000232 0.00000163 0.00000012 0.00000387\n",
      "  0.00007086 0.00377254 0.99613935]\n",
      " [0.00000088 0.0000047  0.0001165  0.0000024  0.00000041 0.000001\n",
      "  0.00112525 0.06105113 0.9376976 ]\n",
      " [0.00000001 0.00000014 0.00000006 0.00000001 0.00000001 0.00000002\n",
      "  0.00000046 0.00236049 0.9976388 ]\n",
      " [0.00000019 0.00000695 0.00001041 0.00000025 0.00000011 0.00000089\n",
      "  0.00005119 0.02804334 0.97188663]\n",
      " [0.00000016 0.00000099 0.00000025 0.0000007  0.00000008 0.00000015\n",
      "  0.00000096 0.00016305 0.9998337 ]\n",
      " [0.00000139 0.000017   0.00059837 0.00000582 0.00000555 0.0000039\n",
      "  0.0047072  0.8437029  0.15095788]\n",
      " [0.00000014 0.00000085 0.00000334 0.00000015 0.00000004 0.0000003\n",
      "  0.0000957  0.00161874 0.9982809 ]\n",
      " [0.00000172 0.00009669 0.00115804 0.00000056 0.00000203 0.00000149\n",
      "  0.00072577 0.00207679 0.995937  ]\n",
      " [0.00000001 0.00000707 0.00000012 0.00000044 0.00000001 0.00000037\n",
      "  0.00000564 0.05385646 0.94612986]\n",
      " [0.00000045 0.00000247 0.00001046 0.00000081 0.00000015 0.00000106\n",
      "  0.00017018 0.05439841 0.945416  ]]\n",
      "[8 8 8 8 8 8 8 8 7 8 8 8 7 7 8 8]\n",
      "Accuracy: 50.00%\n"
     ]
    }
   ],
   "source": [
    "import numpy as np\n",
    "\n",
    "# Assuming you have an instance of ISIC_MultiModal_DataModule\n",
    "import torch.nn.functional as F\n",
    "data_module = ISIC_MultiModal_DataModule(\n",
    "    img_size=256,\n",
    "    batch_size=16,\n",
    ")\n",
    "\n",
    "# Load the data\n",
    "data_module.setup(stage='val')\n",
    "\n",
    "# Get a batch of test data\n",
    "test_data = next(iter(data_module.val_dataloader()))\n",
    "\n",
    "# Assuming the test_data is a tuple of (inputs, labels)\n",
    "inputs, labels = test_data\n",
    "\n",
    "# Make predictions using the model\n",
    "predictions = model(inputs.to(model.device))\n",
    "\n",
    "# Apply softmax to get prediction confidence\n",
    "softmax_predictions = F.softmax(predictions, dim=1)\n",
    "\n",
    "# Convert to numpy and print without scientific notation\n",
    "np.set_printoptions(suppress=True)\n",
    "print(softmax_predictions.cpu().detach().numpy())\n",
    "\n",
    "labels = labels.cpu().detach().numpy()\n",
    "print(labels)\n",
    "\n",
    "# Get the predicted class by finding the index with the highest value in softmax_predictions\n",
    "predicted_classes = np.argmax(\n",
    "    softmax_predictions.cpu().detach().numpy(), axis=1)\n",
    "\n",
    "# Calculate accuracy\n",
    "accuracy = np.mean(predicted_classes == labels)\n",
    "print(f'Accuracy: {accuracy * 100:.2f}%')"
   ]
  }
 ],
 "metadata": {
  "kernelspec": {
   "display_name": "computing-solution",
   "language": "python",
   "name": "python3"
  },
  "language_info": {
   "codemirror_mode": {
    "name": "ipython",
    "version": 3
   },
   "file_extension": ".py",
   "mimetype": "text/x-python",
   "name": "python",
   "nbconvert_exporter": "python",
   "pygments_lexer": "ipython3",
   "version": "3.11.4"
  }
 },
 "nbformat": 4,
 "nbformat_minor": 2
}
