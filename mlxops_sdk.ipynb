{
 "cells": [
  {
   "cell_type": "code",
   "execution_count": 3,
   "metadata": {},
   "outputs": [],
   "source": [
    "import mlxops_sdk_function\n",
    "from backend_central_dev.constant import TaskStatus, TaskExecution, PipelineExecution, PipelineSheet\n",
    "central_url = \"http://127.0.0.1:5006\""
   ]
  },
  {
   "cell_type": "code",
   "execution_count": 7,
   "metadata": {},
   "outputs": [
    {
     "data": {
      "application/vnd.jupyter.widget-view+json": {
       "model_id": "8ba2123c6a6143b79af5ac5f6c9ba3b7",
       "version_major": 2,
       "version_minor": 0
      },
      "text/plain": [
       "  0%|          | 0/97 [00:00<?, ?it/s]"
      ]
     },
     "metadata": {},
     "output_type": "display_data"
    }
   ],
   "source": [
    "# pipeline_name = \"dummy_training_pipeline\"\n",
    "pipeline_name = \"dummy_training_xai_pipeline\"\n",
    "num_exp = 97\n",
    "with tqdm(total=num_exp) as pbar:\n",
    "    for i in range(num_exp):\n",
    "        new_pipeline_execution = mlxops_sdk_function.sheet_operation_request(\n",
    "            central_url,\n",
    "            sheet_type='pipeline_sheet',\n",
    "            sheet_name=pipeline_name,\n",
    "            operation=\"execute\"\n",
    "        )\n",
    "\n",
    "        def get_last_execution():\n",
    "            return mlxops_sdk_function.get_execution_list(\n",
    "                central_url,\n",
    "                execution_type='pipeline_execution',\n",
    "                sheet_name=pipeline_name,\n",
    "            )[-1]\n",
    "        # time.sleep(0.5)\n",
    "        last_pipeline_execution = get_last_execution()\n",
    "        assert last_pipeline_execution[PipelineExecution.pipeline_ticket] == new_pipeline_execution[PipelineExecution.pipeline_ticket]\n",
    "        while last_pipeline_execution[TaskExecution.task_status] != TaskStatus.finished:\n",
    "            last_pipeline_execution = get_last_execution()\n",
    "            time.sleep(3)\n",
    "            pbar.set_postfix({\n",
    "                \"status\": last_pipeline_execution[TaskExecution.task_status],\n",
    "                \"pipeline\": last_pipeline_execution[PipelineExecution.pipeline_execution_name]\n",
    "            })\n",
    "\n",
    "        pbar.update(1)"
   ]
  },
  {
   "cell_type": "code",
   "execution_count": 8,
   "metadata": {},
   "outputs": [
    {
     "data": {
      "text/html": [
       "<div>\n",
       "<style scoped>\n",
       "    .dataframe tbody tr th:only-of-type {\n",
       "        vertical-align: middle;\n",
       "    }\n",
       "\n",
       "    .dataframe tbody tr th {\n",
       "        vertical-align: top;\n",
       "    }\n",
       "\n",
       "    .dataframe thead th {\n",
       "        text-align: right;\n",
       "    }\n",
       "</style>\n",
       "<table border=\"1\" class=\"dataframe\">\n",
       "  <thead>\n",
       "    <tr style=\"text-align: right;\">\n",
       "      <th></th>\n",
       "      <th>task_sheet_name</th>\n",
       "      <th>time_costs</th>\n",
       "      <th>task_num</th>\n",
       "    </tr>\n",
       "  </thead>\n",
       "  <tbody>\n",
       "    <tr>\n",
       "      <th>0</th>\n",
       "      <td>dummy_training_task</td>\n",
       "      <td>3.722807</td>\n",
       "      <td>100</td>\n",
       "    </tr>\n",
       "    <tr>\n",
       "      <th>1</th>\n",
       "      <td>dummy_model_evaluation_task</td>\n",
       "      <td>3.272411</td>\n",
       "      <td>100</td>\n",
       "    </tr>\n",
       "    <tr>\n",
       "      <th>2</th>\n",
       "      <td>dummy_xai_task</td>\n",
       "      <td>3.245595</td>\n",
       "      <td>100</td>\n",
       "    </tr>\n",
       "    <tr>\n",
       "      <th>3</th>\n",
       "      <td>dummy_xai_evaluation_task</td>\n",
       "      <td>3.253295</td>\n",
       "      <td>100</td>\n",
       "    </tr>\n",
       "  </tbody>\n",
       "</table>\n",
       "</div>"
      ],
      "text/plain": [
       "               task_sheet_name  time_costs  task_num\n",
       "0          dummy_training_task    3.722807       100\n",
       "1  dummy_model_evaluation_task    3.272411       100\n",
       "2               dummy_xai_task    3.245595       100\n",
       "3    dummy_xai_evaluation_task    3.253295       100"
      ]
     },
     "execution_count": 8,
     "metadata": {},
     "output_type": "execute_result"
    }
   ],
   "source": [
    "task_execution_type_list = [\n",
    "    'dummy_training_task',\n",
    "    'dummy_model_evaluation_task',\n",
    "    'dummy_xai_task',\n",
    "    'dummy_xai_evaluation_task'\n",
    "]\n",
    "\n",
    "rs_data = []\n",
    "for task_sheet_name in task_execution_type_list:\n",
    "    executions = mlxops_sdk_function.get_execution_list(\n",
    "        central_url,\n",
    "        execution_type=\"task_execution\",\n",
    "        sheet_name=task_sheet_name\n",
    "    )\n",
    "    # print(f\"Total {task_sheet_name} executions: {len(executions)}\")\n",
    "    time_costs = []\n",
    "    for execution in executions:\n",
    "        if (type(execution['start_time']) is not float) or (type(execution['end_time']) is not float):\n",
    "            continue\n",
    "        time_cost = execution['end_time'] - execution['start_time']\n",
    "        time_costs.append(time_cost)\n",
    "\n",
    "    rs_data.append({\n",
    "        \"task_sheet_name\": task_sheet_name,\n",
    "        \"time_costs\": np.array(time_costs).mean(),\n",
    "        \"task_num\": len(executions)\n",
    "    })\n",
    "\n",
    "pd.DataFrame(rs_data)"
   ]
  }
 ],
 "metadata": {
  "kernelspec": {
   "display_name": "computing-solution",
   "language": "python",
   "name": "python3"
  },
  "language_info": {
   "codemirror_mode": {
    "name": "ipython",
    "version": 3
   },
   "file_extension": ".py",
   "mimetype": "text/x-python",
   "name": "python",
   "nbconvert_exporter": "python",
   "pygments_lexer": "ipython3",
   "version": "3.11.4"
  }
 },
 "nbformat": 4,
 "nbformat_minor": 2
}
